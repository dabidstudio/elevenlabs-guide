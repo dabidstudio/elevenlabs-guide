{
 "cells": [
  {
   "cell_type": "code",
   "execution_count": 1,
   "metadata": {},
   "outputs": [
    {
     "name": "stdout",
     "output_type": "stream",
     "text": [
      "Requirement already satisfied: elevenlabs in ./venv/lib/python3.12/site-packages (1.6.1)\n",
      "Requirement already satisfied: httpx>=0.21.2 in ./venv/lib/python3.12/site-packages (from elevenlabs) (0.27.0)\n",
      "Requirement already satisfied: pydantic>=1.9.2 in ./venv/lib/python3.12/site-packages (from elevenlabs) (2.8.2)\n",
      "Requirement already satisfied: pydantic-core<3.0.0,>=2.18.2 in ./venv/lib/python3.12/site-packages (from elevenlabs) (2.20.1)\n",
      "Requirement already satisfied: requests>=2.20 in ./venv/lib/python3.12/site-packages (from elevenlabs) (2.32.3)\n",
      "Requirement already satisfied: typing_extensions>=4.0.0 in ./venv/lib/python3.12/site-packages (from elevenlabs) (4.12.2)\n",
      "Requirement already satisfied: websockets>=11.0 in ./venv/lib/python3.12/site-packages (from elevenlabs) (12.0)\n",
      "Requirement already satisfied: anyio in ./venv/lib/python3.12/site-packages (from httpx>=0.21.2->elevenlabs) (4.4.0)\n",
      "Requirement already satisfied: certifi in ./venv/lib/python3.12/site-packages (from httpx>=0.21.2->elevenlabs) (2024.7.4)\n",
      "Requirement already satisfied: httpcore==1.* in ./venv/lib/python3.12/site-packages (from httpx>=0.21.2->elevenlabs) (1.0.5)\n",
      "Requirement already satisfied: idna in ./venv/lib/python3.12/site-packages (from httpx>=0.21.2->elevenlabs) (3.7)\n",
      "Requirement already satisfied: sniffio in ./venv/lib/python3.12/site-packages (from httpx>=0.21.2->elevenlabs) (1.3.1)\n",
      "Requirement already satisfied: h11<0.15,>=0.13 in ./venv/lib/python3.12/site-packages (from httpcore==1.*->httpx>=0.21.2->elevenlabs) (0.14.0)\n",
      "Requirement already satisfied: annotated-types>=0.4.0 in ./venv/lib/python3.12/site-packages (from pydantic>=1.9.2->elevenlabs) (0.7.0)\n",
      "Requirement already satisfied: charset-normalizer<4,>=2 in ./venv/lib/python3.12/site-packages (from requests>=2.20->elevenlabs) (3.3.2)\n",
      "Requirement already satisfied: urllib3<3,>=1.21.1 in ./venv/lib/python3.12/site-packages (from requests>=2.20->elevenlabs) (2.2.2)\n",
      "\n",
      "\u001b[1m[\u001b[0m\u001b[34;49mnotice\u001b[0m\u001b[1;39;49m]\u001b[0m\u001b[39;49m A new release of pip is available: \u001b[0m\u001b[31;49m24.0\u001b[0m\u001b[39;49m -> \u001b[0m\u001b[32;49m24.2\u001b[0m\n",
      "\u001b[1m[\u001b[0m\u001b[34;49mnotice\u001b[0m\u001b[1;39;49m]\u001b[0m\u001b[39;49m To update, run: \u001b[0m\u001b[32;49mpip install --upgrade pip\u001b[0m\n"
     ]
    }
   ],
   "source": [
    "!pip install elevenlabs"
   ]
  },
  {
   "cell_type": "code",
   "execution_count": null,
   "metadata": {},
   "outputs": [],
   "source": [
    "## 기존 코드\n",
    "from elevenlabs import play\n",
    "from elevenlabs.client import ElevenLabs\n",
    "\n",
    "client = ElevenLabs(\n",
    "    api_key=\"\",  # Defaults to ELEVEN_API_KEY\n",
    ")\n",
    "\n",
    "audio = client.generate(\n",
    "    text=\"안녕하세요 너의 이름은 무엇인가요?\",\n",
    "    voice=\"Rachel\",\n",
    "    model=\"eleven_multilingual_v2\",\n",
    ")\n",
    "play(audio)"
   ]
  },
  {
   "cell_type": "markdown",
   "metadata": {},
   "source": [
    "### 영상에서 활용했던 프롬프트\n",
    "\n",
    "\n",
    "\n",
    "```python\n",
    "from elevenlabs import play\n",
    "from elevenlabs.client import ElevenLabs\n",
    "\n",
    "client = ElevenLabs(\n",
    "    api_key=\"\",  # Defaults to ELEVEN_API_KEY\n",
    ")\n",
    "\n",
    "audio = client.generate(\n",
    "    text=\"안녕하세요 너의 이름은 무엇인가요?\",\n",
    "    voice=\"Rachel\",\n",
    "    model=\"eleven_multilingual_v2\",\n",
    ")\n",
    "\n",
    "# Save the audio to an mp3 file\n",
    "with open(\"output.mp3\", \"wb\") as file:\n",
    "    file.write(audio)\n",
    "\n",
    "play(audio)\n",
    "```\n",
    "\n",
    "audio를 mp3로 다운받고 싶어\n"
   ]
  },
  {
   "cell_type": "markdown",
   "metadata": {},
   "source": [
    "### Chat GPT로 변경 후 코드 (mp3 다운로드)\n"
   ]
  },
  {
   "cell_type": "code",
   "execution_count": 7,
   "metadata": {},
   "outputs": [],
   "source": [
    "from elevenlabs import play\n",
    "from elevenlabs.client import ElevenLabs\n",
    "import base64\n",
    "\n",
    "client = ElevenLabs(api_key=\"YOUR_API_KEY\")\n",
    "\n",
    "# Generate audio\n",
    "audio = client.generate(\n",
    "    text=\"안녕하세요 너의 이름은 무엇인가요?\",\n",
    "    voice=\"IKne3meq5aSn9XLyUdCD\",\n",
    "    model=\"eleven_multilingual_v2\",\n",
    ")\n",
    "\n",
    "# Write the audio to an MP3 file\n",
    "with open(\"output.mp3\", \"wb\") as f:\n",
    "    for chunk in audio:\n",
    "        f.write(chunk)"
   ]
  },
  {
   "cell_type": "code",
   "execution_count": null,
   "metadata": {},
   "outputs": [],
   "source": []
  }
 ],
 "metadata": {
  "language_info": {
   "name": "python"
  }
 },
 "nbformat": 4,
 "nbformat_minor": 2
}
